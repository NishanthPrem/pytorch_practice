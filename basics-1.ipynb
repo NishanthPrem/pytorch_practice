{
 "cells": [
  {
   "cell_type": "code",
   "execution_count": 2,
   "id": "02697281",
   "metadata": {},
   "outputs": [],
   "source": [
    "import torch"
   ]
  },
  {
   "cell_type": "code",
   "execution_count": 5,
   "id": "35ad4a8f",
   "metadata": {},
   "outputs": [
    {
     "name": "stdout",
     "output_type": "stream",
     "text": [
      "tensor([[0., 0., 0.],\n",
      "        [0., 0., 0.],\n",
      "        [0., 0., 0.],\n",
      "        [0., 0., 0.],\n",
      "        [0., 0., 0.]])\n",
      "torch.float32\n"
     ]
    }
   ],
   "source": [
    "z = torch.zeros(5,3)\n",
    "print(z)\n",
    "print(z.dtype)"
   ]
  },
  {
   "cell_type": "code",
   "execution_count": 7,
   "id": "ad911aaf",
   "metadata": {},
   "outputs": [
    {
     "name": "stdout",
     "output_type": "stream",
     "text": [
      "tensor([[1, 1, 1],\n",
      "        [1, 1, 1],\n",
      "        [1, 1, 1],\n",
      "        [1, 1, 1],\n",
      "        [1, 1, 1]], dtype=torch.int16)\n"
     ]
    }
   ],
   "source": [
    "i = torch.ones((5,3), dtype=torch.int16)\n",
    "print(i)"
   ]
  },
  {
   "cell_type": "code",
   "execution_count": 9,
   "id": "5af71b92",
   "metadata": {},
   "outputs": [
    {
     "name": "stdout",
     "output_type": "stream",
     "text": [
      "A random Tensor: tensor([[0.3126, 0.3791],\n",
      "        [0.3087, 0.0736]])\n",
      "Another random Tensor: tensor([[0.4216, 0.0691],\n",
      "        [0.2332, 0.4047]])\n",
      "Another tensor after reinitializing seeding: tensor([[0.3126, 0.3791],\n",
      "        [0.3087, 0.0736]])\n",
      "Another random Tensor: tensor([[0.4216, 0.0691],\n",
      "        [0.2332, 0.4047]])\n"
     ]
    }
   ],
   "source": [
    "torch.manual_seed(1729)\n",
    "r1 = torch.rand(2,2)\n",
    "print(f'A random Tensor: {r1}')\n",
    "\n",
    "r2 = torch.rand(2,2)\n",
    "print(f'Another random Tensor: {r2}')\n",
    "\n",
    "torch.manual_seed(1729)\n",
    "r3 = torch.rand(2,2)\n",
    "print(f'Another tensor after reinitializing seeding: {r3}')\n",
    "\n",
    "r4 = torch.rand(2,2)\n",
    "print(f'Another random Tensor: {r4}')"
   ]
  },
  {
   "cell_type": "code",
   "execution_count": 13,
   "id": "64ad418d",
   "metadata": {},
   "outputs": [
    {
     "name": "stdout",
     "output_type": "stream",
     "text": [
      "tensor([[3., 3., 3.],\n",
      "        [3., 3., 3.]])\n"
     ]
    }
   ],
   "source": [
    "ones = torch.ones(2,3)\n",
    "twos = torch.ones(2,3) * 2\n",
    "threes = ones + twos\n",
    "\n",
    "# Addition of same dimenion tensors is possible\n",
    "print(f'{threes}')"
   ]
  },
  {
   "cell_type": "code",
   "execution_count": 16,
   "id": "2a268ede",
   "metadata": {},
   "outputs": [],
   "source": [
    "r1 = torch.rand(2,3)\n",
    "r2 = torch.rand(3,2)\n",
    "\n",
    "#Not Possible\n",
    "#print(r1+r2)"
   ]
  },
  {
   "cell_type": "code",
   "execution_count": 17,
   "id": "2f4de6da",
   "metadata": {},
   "outputs": [
    {
     "name": "stdout",
     "output_type": "stream",
     "text": [
      "A random matrix: tensor([[ 0.8901, -0.5283],\n",
      "        [-0.6041, -0.3345]])\n"
     ]
    }
   ],
   "source": [
    "r = (torch.rand(2,2) - 0.5) * 2\n",
    "print(f'A random matrix: {r}')"
   ]
  },
  {
   "cell_type": "code",
   "execution_count": 18,
   "id": "c7162f94",
   "metadata": {},
   "outputs": [
    {
     "name": "stdout",
     "output_type": "stream",
     "text": [
      "Absolute Value: tensor([[0.8901, 0.5283],\n",
      "        [0.6041, 0.3345]])\n"
     ]
    }
   ],
   "source": [
    "print(f'Absolute Value: {torch.abs(r)}')"
   ]
  },
  {
   "cell_type": "code",
   "execution_count": 19,
   "id": "e5533a51",
   "metadata": {},
   "outputs": [
    {
     "name": "stdout",
     "output_type": "stream",
     "text": [
      "Inverse sine of r: tensor([[ 1.0976, -0.5566],\n",
      "        [-0.6487, -0.3411]])\n"
     ]
    }
   ],
   "source": [
    "print(f'Inverse sine of r: {torch.asin(r)}')"
   ]
  },
  {
   "cell_type": "code",
   "execution_count": 20,
   "id": "a6ff27c8",
   "metadata": {},
   "outputs": [
    {
     "name": "stdout",
     "output_type": "stream",
     "text": [
      "Determinant of r: -0.6169081330299377\n"
     ]
    }
   ],
   "source": [
    "print(f'Determinant of r: {torch.det(r)}')"
   ]
  },
  {
   "cell_type": "code",
   "execution_count": 21,
   "id": "944d97ab",
   "metadata": {},
   "outputs": [
    {
     "name": "stdout",
     "output_type": "stream",
     "text": [
      "Singular value decomposition: 0.6988239288330078\n"
     ]
    }
   ],
   "source": [
    "print(f'Singular value decomposition: {torch.std(r)}')"
   ]
  },
  {
   "cell_type": "code",
   "execution_count": 22,
   "id": "458dfffc",
   "metadata": {},
   "outputs": [
    {
     "name": "stdout",
     "output_type": "stream",
     "text": [
      "Average and standard deviation: (tensor(0.6988), tensor(-0.1442))\n"
     ]
    }
   ],
   "source": [
    "print(f'Average and standard deviation: {torch.std_mean(r)}')"
   ]
  },
  {
   "cell_type": "code",
   "execution_count": 23,
   "id": "47a8788a",
   "metadata": {},
   "outputs": [
    {
     "name": "stdout",
     "output_type": "stream",
     "text": [
      "Maximum Value: 0.8901034593582153\n"
     ]
    }
   ],
   "source": [
    "print(f'Maximum Value: {torch.max(r)}')"
   ]
  },
  {
   "cell_type": "code",
   "execution_count": 24,
   "id": "234224bd",
   "metadata": {},
   "outputs": [],
   "source": []
  }
 ],
 "metadata": {
  "kernelspec": {
   "display_name": "Python 3 (ipykernel)",
   "language": "python",
   "name": "python3"
  },
  "language_info": {
   "codemirror_mode": {
    "name": "ipython",
    "version": 3
   },
   "file_extension": ".py",
   "mimetype": "text/x-python",
   "name": "python",
   "nbconvert_exporter": "python",
   "pygments_lexer": "ipython3",
   "version": "3.11.7"
  }
 },
 "nbformat": 4,
 "nbformat_minor": 5
}
