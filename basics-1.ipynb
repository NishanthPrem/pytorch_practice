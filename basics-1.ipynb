{
 "cells": [
  {
   "cell_type": "code",
   "execution_count": 2,
   "id": "19c76255",
   "metadata": {},
   "outputs": [],
   "source": [
    "import torch"
   ]
  },
  {
   "cell_type": "code",
   "execution_count": 5,
   "id": "1ee05d51",
   "metadata": {},
   "outputs": [
    {
     "name": "stdout",
     "output_type": "stream",
     "text": [
      "tensor([[0., 0., 0.],\n",
      "        [0., 0., 0.],\n",
      "        [0., 0., 0.],\n",
      "        [0., 0., 0.],\n",
      "        [0., 0., 0.]])\n",
      "torch.float32\n"
     ]
    }
   ],
   "source": [
    "z = torch.zeros(5,3)\n",
    "print(z)\n",
    "print(z.dtype)"
   ]
  },
  {
   "cell_type": "code",
   "execution_count": 7,
   "id": "bfd4a844",
   "metadata": {},
   "outputs": [
    {
     "name": "stdout",
     "output_type": "stream",
     "text": [
      "tensor([[1, 1, 1],\n",
      "        [1, 1, 1],\n",
      "        [1, 1, 1],\n",
      "        [1, 1, 1],\n",
      "        [1, 1, 1]], dtype=torch.int16)\n"
     ]
    }
   ],
   "source": [
    "i = torch.ones((5,3), dtype=torch.int16)\n",
    "print(i)"
   ]
  },
  {
   "cell_type": "code",
   "execution_count": 9,
   "id": "cb484e2d",
   "metadata": {},
   "outputs": [
    {
     "name": "stdout",
     "output_type": "stream",
     "text": [
      "A random Tensor: tensor([[0.3126, 0.3791],\n",
      "        [0.3087, 0.0736]])\n",
      "Another random Tensor: tensor([[0.4216, 0.0691],\n",
      "        [0.2332, 0.4047]])\n",
      "Another tensor after reinitializing seeding: tensor([[0.3126, 0.3791],\n",
      "        [0.3087, 0.0736]])\n",
      "Another random Tensor: tensor([[0.4216, 0.0691],\n",
      "        [0.2332, 0.4047]])\n"
     ]
    }
   ],
   "source": [
    "torch.manual_seed(1729)\n",
    "r1 = torch.rand(2,2)\n",
    "print(f'A random Tensor: {r1}')\n",
    "\n",
    "r2 = torch.rand(2,2)\n",
    "print(f'Another random Tensor: {r2}')\n",
    "\n",
    "torch.manual_seed(1729)\n",
    "r3 = torch.rand(2,2)\n",
    "print(f'Another tensor after reinitializing seeding: {r3}')\n",
    "\n",
    "r4 = torch.rand(2,2)\n",
    "print(f'Another random Tensor: {r4}')"
   ]
  },
  {
   "cell_type": "code",
   "execution_count": 13,
   "id": "4431e189",
   "metadata": {},
   "outputs": [
    {
     "name": "stdout",
     "output_type": "stream",
     "text": [
      "tensor([[3., 3., 3.],\n",
      "        [3., 3., 3.]])\n"
     ]
    }
   ],
   "source": [
    "ones = torch.ones(2,3)\n",
    "twos = torch.ones(2,3) * 2\n",
    "threes = ones + twos\n",
    "\n",
    "# Addition of same dimenion tensors is possible\n",
    "print(f'{threes}')"
   ]
  },
  {
   "cell_type": "code",
   "execution_count": 14,
   "id": "3de3c474",
   "metadata": {},
   "outputs": [
    {
     "ename": "SyntaxError",
     "evalue": "invalid syntax (467532909.py, line 5)",
     "output_type": "error",
     "traceback": [
      "\u001b[1;36m  Cell \u001b[1;32mIn[14], line 5\u001b[1;36m\u001b[0m\n\u001b[1;33m    //print(r1+r2)\u001b[0m\n\u001b[1;37m    ^\u001b[0m\n\u001b[1;31mSyntaxError\u001b[0m\u001b[1;31m:\u001b[0m invalid syntax\n"
     ]
    }
   ],
   "source": [
    "r1 = torch.rand(2,3)\n",
    "r2 = torch.rand(3,2)\n",
    "\n",
    "#Not Possible\n",
    "//print(r1+r2)"
   ]
  },
  {
   "cell_type": "code",
   "execution_count": null,
   "id": "717e494c",
   "metadata": {},
   "outputs": [],
   "source": []
  }
 ],
 "metadata": {
  "kernelspec": {
   "display_name": "Python 3 (ipykernel)",
   "language": "python",
   "name": "python3"
  },
  "language_info": {
   "codemirror_mode": {
    "name": "ipython",
    "version": 3
   },
   "file_extension": ".py",
   "mimetype": "text/x-python",
   "name": "python",
   "nbconvert_exporter": "python",
   "pygments_lexer": "ipython3",
   "version": "3.11.7"
  }
 },
 "nbformat": 4,
 "nbformat_minor": 5
}
